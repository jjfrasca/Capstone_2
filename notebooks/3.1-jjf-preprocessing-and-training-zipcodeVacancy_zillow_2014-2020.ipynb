{
 "cells": [
  {
   "cell_type": "markdown",
   "metadata": {},
   "source": [
    "## Preprocessing and Training Data Development - Vacancy Rates \n",
    "### Goal:  Create a cleaned development dataset you can use to complete the modeling step of your project\n"
   ]
  },
  {
   "cell_type": "markdown",
   "metadata": {},
   "source": [
    "#### Steps: \n",
    "● 1. Create dummy or indicator features for categorical variables\n",
    "\n",
    "● 2. Standardize the magnitude of numeric features using a scaler\n",
    "\n",
    "● 3. Split into testing and training datasets"
   ]
  },
  {
   "cell_type": "code",
   "execution_count": 159,
   "metadata": {},
   "outputs": [],
   "source": [
    "#imports\n",
    "import pandas as pd\n",
    "import numpy as np\n",
    "import os\n",
    "import matplotlib.pyplot as plt\n",
    "import seaborn as sns\n",
    "from sklearn import __version__ as sklearn_version\n",
    "from sklearn.decomposition import PCA\n",
    "from sklearn.preprocessing import scale\n",
    "from sklearn.model_selection import train_test_split, cross_validate, GridSearchCV, learning_curve, TimeSeriesSplit\n",
    "from sklearn.preprocessing import StandardScaler, MinMaxScaler\n",
    "from sklearn.dummy import DummyRegressor\n",
    "from sklearn.linear_model import LinearRegression\n",
    "from sklearn.ensemble import RandomForestRegressor\n",
    "from sklearn.metrics import r2_score, mean_squared_error, mean_absolute_error\n",
    "from sklearn.pipeline import make_pipeline\n",
    "from sklearn.impute import SimpleImputer\n",
    "from sklearn.feature_selection import SelectKBest, f_regression\n",
    "import datetime\n",
    "from pandas_profiling import ProfileReport"
   ]
  },
  {
   "cell_type": "code",
   "execution_count": 160,
   "metadata": {},
   "outputs": [],
   "source": [
    "#load data\n",
    "path= '/Users/josephfrasca/Coding_Stuff/Springboard/Capstone_2/data/interim'\n",
    "os.chdir(path) "
   ]
  },
  {
   "cell_type": "code",
   "execution_count": 161,
   "metadata": {},
   "outputs": [
    {
     "data": {
      "text/html": [
       "<div>\n",
       "<style scoped>\n",
       "    .dataframe tbody tr th:only-of-type {\n",
       "        vertical-align: middle;\n",
       "    }\n",
       "\n",
       "    .dataframe tbody tr th {\n",
       "        vertical-align: top;\n",
       "    }\n",
       "\n",
       "    .dataframe thead th {\n",
       "        text-align: right;\n",
       "    }\n",
       "</style>\n",
       "<table border=\"1\" class=\"dataframe\">\n",
       "  <thead>\n",
       "    <tr style=\"text-align: right;\">\n",
       "      <th></th>\n",
       "      <th>Zipcode</th>\n",
       "      <th>RentPrice</th>\n",
       "      <th>Year</th>\n",
       "      <th>SizeRank</th>\n",
       "      <th>State</th>\n",
       "      <th>City</th>\n",
       "      <th>Metro</th>\n",
       "      <th>CountyName</th>\n",
       "      <th>HomePrice</th>\n",
       "      <th>Vacancy_Rate%</th>\n",
       "      <th>MOE-VacancyRate%</th>\n",
       "    </tr>\n",
       "  </thead>\n",
       "  <tbody>\n",
       "    <tr>\n",
       "      <th>0</th>\n",
       "      <td>10025</td>\n",
       "      <td>3041.83</td>\n",
       "      <td>2014</td>\n",
       "      <td>0.0</td>\n",
       "      <td>NY</td>\n",
       "      <td>New York</td>\n",
       "      <td>New York-Newark-Jersey City</td>\n",
       "      <td>New York County</td>\n",
       "      <td>968761.75</td>\n",
       "      <td>9.011810</td>\n",
       "      <td>1.539867</td>\n",
       "    </tr>\n",
       "    <tr>\n",
       "      <th>1</th>\n",
       "      <td>60657</td>\n",
       "      <td>1589.42</td>\n",
       "      <td>2014</td>\n",
       "      <td>1.0</td>\n",
       "      <td>IL</td>\n",
       "      <td>Chicago</td>\n",
       "      <td>Chicago-Naperville-Elgin</td>\n",
       "      <td>Cook County</td>\n",
       "      <td>450755.75</td>\n",
       "      <td>8.042922</td>\n",
       "      <td>1.343734</td>\n",
       "    </tr>\n",
       "    <tr>\n",
       "      <th>2</th>\n",
       "      <td>10023</td>\n",
       "      <td>3186.67</td>\n",
       "      <td>2014</td>\n",
       "      <td>2.0</td>\n",
       "      <td>NY</td>\n",
       "      <td>New York</td>\n",
       "      <td>New York-Newark-Jersey City</td>\n",
       "      <td>New York County</td>\n",
       "      <td>1024543.17</td>\n",
       "      <td>19.964756</td>\n",
       "      <td>2.296513</td>\n",
       "    </tr>\n",
       "    <tr>\n",
       "      <th>3</th>\n",
       "      <td>77494</td>\n",
       "      <td>1807.33</td>\n",
       "      <td>2014</td>\n",
       "      <td>3.0</td>\n",
       "      <td>TX</td>\n",
       "      <td>Katy</td>\n",
       "      <td>Houston-The Woodlands-Sugar Land</td>\n",
       "      <td>Harris County</td>\n",
       "      <td>322032.00</td>\n",
       "      <td>3.319292</td>\n",
       "      <td>1.229599</td>\n",
       "    </tr>\n",
       "    <tr>\n",
       "      <th>4</th>\n",
       "      <td>60614</td>\n",
       "      <td>1786.25</td>\n",
       "      <td>2014</td>\n",
       "      <td>4.0</td>\n",
       "      <td>IL</td>\n",
       "      <td>Chicago</td>\n",
       "      <td>Chicago-Naperville-Elgin</td>\n",
       "      <td>Cook County</td>\n",
       "      <td>580250.92</td>\n",
       "      <td>8.468203</td>\n",
       "      <td>1.250484</td>\n",
       "    </tr>\n",
       "    <tr>\n",
       "      <th>...</th>\n",
       "      <td>...</td>\n",
       "      <td>...</td>\n",
       "      <td>...</td>\n",
       "      <td>...</td>\n",
       "      <td>...</td>\n",
       "      <td>...</td>\n",
       "      <td>...</td>\n",
       "      <td>...</td>\n",
       "      <td>...</td>\n",
       "      <td>...</td>\n",
       "      <td>...</td>\n",
       "    </tr>\n",
       "    <tr>\n",
       "      <th>22696</th>\n",
       "      <td>02110</td>\n",
       "      <td>4408.57</td>\n",
       "      <td>2020</td>\n",
       "      <td>14752.0</td>\n",
       "      <td>MA</td>\n",
       "      <td>Boston</td>\n",
       "      <td>Boston-Cambridge-Newton</td>\n",
       "      <td>Suffolk County</td>\n",
       "      <td>1339232.44</td>\n",
       "      <td>NaN</td>\n",
       "      <td>NaN</td>\n",
       "    </tr>\n",
       "    <tr>\n",
       "      <th>22697</th>\n",
       "      <td>20004</td>\n",
       "      <td>2505.56</td>\n",
       "      <td>2020</td>\n",
       "      <td>15149.0</td>\n",
       "      <td>DC</td>\n",
       "      <td>Washington</td>\n",
       "      <td>Washington-Arlington-Alexandria</td>\n",
       "      <td>District of Columbia</td>\n",
       "      <td>497022.00</td>\n",
       "      <td>NaN</td>\n",
       "      <td>NaN</td>\n",
       "    </tr>\n",
       "    <tr>\n",
       "      <th>22698</th>\n",
       "      <td>80951</td>\n",
       "      <td>1647.88</td>\n",
       "      <td>2020</td>\n",
       "      <td>15318.0</td>\n",
       "      <td>CO</td>\n",
       "      <td>Colorado Springs</td>\n",
       "      <td>Colorado Springs</td>\n",
       "      <td>El Paso County</td>\n",
       "      <td>315486.22</td>\n",
       "      <td>NaN</td>\n",
       "      <td>NaN</td>\n",
       "    </tr>\n",
       "    <tr>\n",
       "      <th>22699</th>\n",
       "      <td>11964</td>\n",
       "      <td>15800.50</td>\n",
       "      <td>2020</td>\n",
       "      <td>17169.0</td>\n",
       "      <td>NY</td>\n",
       "      <td>Town of Shelter Island</td>\n",
       "      <td>New York-Newark-Jersey City</td>\n",
       "      <td>Suffolk County</td>\n",
       "      <td>1015162.00</td>\n",
       "      <td>NaN</td>\n",
       "      <td>NaN</td>\n",
       "    </tr>\n",
       "    <tr>\n",
       "      <th>22700</th>\n",
       "      <td>60602</td>\n",
       "      <td>2131.67</td>\n",
       "      <td>2020</td>\n",
       "      <td>18836.0</td>\n",
       "      <td>IL</td>\n",
       "      <td>Chicago</td>\n",
       "      <td>Chicago-Naperville-Elgin</td>\n",
       "      <td>Cook County</td>\n",
       "      <td>474680.56</td>\n",
       "      <td>NaN</td>\n",
       "      <td>NaN</td>\n",
       "    </tr>\n",
       "  </tbody>\n",
       "</table>\n",
       "<p>22701 rows × 11 columns</p>\n",
       "</div>"
      ],
      "text/plain": [
       "      Zipcode  RentPrice  Year  SizeRank State                    City  \\\n",
       "0       10025    3041.83  2014       0.0    NY                New York   \n",
       "1       60657    1589.42  2014       1.0    IL                 Chicago   \n",
       "2       10023    3186.67  2014       2.0    NY                New York   \n",
       "3       77494    1807.33  2014       3.0    TX                    Katy   \n",
       "4       60614    1786.25  2014       4.0    IL                 Chicago   \n",
       "...       ...        ...   ...       ...   ...                     ...   \n",
       "22696   02110    4408.57  2020   14752.0    MA                  Boston   \n",
       "22697   20004    2505.56  2020   15149.0    DC              Washington   \n",
       "22698   80951    1647.88  2020   15318.0    CO        Colorado Springs   \n",
       "22699   11964   15800.50  2020   17169.0    NY  Town of Shelter Island   \n",
       "22700   60602    2131.67  2020   18836.0    IL                 Chicago   \n",
       "\n",
       "                                  Metro            CountyName   HomePrice  \\\n",
       "0           New York-Newark-Jersey City       New York County   968761.75   \n",
       "1              Chicago-Naperville-Elgin           Cook County   450755.75   \n",
       "2           New York-Newark-Jersey City       New York County  1024543.17   \n",
       "3      Houston-The Woodlands-Sugar Land         Harris County   322032.00   \n",
       "4              Chicago-Naperville-Elgin           Cook County   580250.92   \n",
       "...                                 ...                   ...         ...   \n",
       "22696           Boston-Cambridge-Newton        Suffolk County  1339232.44   \n",
       "22697   Washington-Arlington-Alexandria  District of Columbia   497022.00   \n",
       "22698                  Colorado Springs        El Paso County   315486.22   \n",
       "22699       New York-Newark-Jersey City        Suffolk County  1015162.00   \n",
       "22700          Chicago-Naperville-Elgin           Cook County   474680.56   \n",
       "\n",
       "       Vacancy_Rate%  MOE-VacancyRate%  \n",
       "0           9.011810          1.539867  \n",
       "1           8.042922          1.343734  \n",
       "2          19.964756          2.296513  \n",
       "3           3.319292          1.229599  \n",
       "4           8.468203          1.250484  \n",
       "...              ...               ...  \n",
       "22696            NaN               NaN  \n",
       "22697            NaN               NaN  \n",
       "22698            NaN               NaN  \n",
       "22699            NaN               NaN  \n",
       "22700            NaN               NaN  \n",
       "\n",
       "[22701 rows x 11 columns]"
      ]
     },
     "execution_count": 161,
     "metadata": {},
     "output_type": "execute_result"
    }
   ],
   "source": [
    "# load cleaned data\n",
    "df = pd.read_csv('vacancy_zillowHomeRent_merge_2014_2020.csv', dtype={'Zipcode': object})\n",
    "df"
   ]
  },
  {
   "cell_type": "code",
   "execution_count": 162,
   "metadata": {},
   "outputs": [],
   "source": [
    "#drop margin of error of vacancy rate\n",
    "df.drop('MOE-VacancyRate%', axis=1, inplace=True)"
   ]
  },
  {
   "cell_type": "code",
   "execution_count": 163,
   "metadata": {},
   "outputs": [
    {
     "data": {
      "text/plain": [
       "Zipcode           object\n",
       "RentPrice        float64\n",
       "Year               int64\n",
       "SizeRank         float64\n",
       "State             object\n",
       "City              object\n",
       "Metro             object\n",
       "CountyName        object\n",
       "HomePrice        float64\n",
       "Vacancy_Rate%    float64\n",
       "dtype: object"
      ]
     },
     "execution_count": 163,
     "metadata": {},
     "output_type": "execute_result"
    }
   ],
   "source": [
    "df.dtypes"
   ]
  },
  {
   "cell_type": "code",
   "execution_count": 164,
   "metadata": {},
   "outputs": [
    {
     "data": {
      "text/plain": [
       "\"\\n#Create a new dataframe, setting the index to 'Year'\\ndf = DF.set_index('Year')\\n#Save the DATE labels \\ndf_index = df.index\\n#Save the column names\\ndf_columns = df.columns\\ndf.head()\\n\""
      ]
     },
     "execution_count": 164,
     "metadata": {},
     "output_type": "execute_result"
    }
   ],
   "source": [
    "'''\n",
    "#Create a new dataframe, setting the index to 'Year'\n",
    "df = DF.set_index('Year')\n",
    "#Save the DATE labels \n",
    "df_index = df.index\n",
    "#Save the column names\n",
    "df_columns = df.columns\n",
    "df.head()\n",
    "'''"
   ]
  },
  {
   "cell_type": "code",
   "execution_count": 165,
   "metadata": {},
   "outputs": [
    {
     "data": {
      "text/plain": [
       "Zipcode           0\n",
       "RentPrice         3\n",
       "Year              0\n",
       "SizeRank         20\n",
       "State            15\n",
       "City             15\n",
       "Metro            15\n",
       "CountyName       15\n",
       "HomePrice        39\n",
       "Vacancy_Rate%    25\n",
       "dtype: int64"
      ]
     },
     "execution_count": 165,
     "metadata": {},
     "output_type": "execute_result"
    }
   ],
   "source": [
    "#split into two dataframes for future modeling and predicting vacancy rates in 2019-2020\n",
    "df = df[df.Year < 2019]\n",
    "df_2019_2020 = df[df.Year > 2018]\n",
    "#check NaNs\n",
    "df.isna().sum()"
   ]
  },
  {
   "cell_type": "code",
   "execution_count": 166,
   "metadata": {},
   "outputs": [
    {
     "name": "stderr",
     "output_type": "stream",
     "text": [
      "/opt/anaconda3/lib/python3.7/site-packages/ipykernel_launcher.py:2: SettingWithCopyWarning: \n",
      "A value is trying to be set on a copy of a slice from a DataFrame\n",
      "\n",
      "See the caveats in the documentation: https://pandas.pydata.org/pandas-docs/stable/user_guide/indexing.html#returning-a-view-versus-a-copy\n",
      "  \n"
     ]
    },
    {
     "data": {
      "text/html": [
       "<div>\n",
       "<style scoped>\n",
       "    .dataframe tbody tr th:only-of-type {\n",
       "        vertical-align: middle;\n",
       "    }\n",
       "\n",
       "    .dataframe tbody tr th {\n",
       "        vertical-align: top;\n",
       "    }\n",
       "\n",
       "    .dataframe thead th {\n",
       "        text-align: right;\n",
       "    }\n",
       "</style>\n",
       "<table border=\"1\" class=\"dataframe\">\n",
       "  <thead>\n",
       "    <tr style=\"text-align: right;\">\n",
       "      <th></th>\n",
       "      <th>Zipcode</th>\n",
       "      <th>RentPrice</th>\n",
       "      <th>Year</th>\n",
       "      <th>SizeRank</th>\n",
       "      <th>State</th>\n",
       "      <th>City</th>\n",
       "      <th>Metro</th>\n",
       "      <th>CountyName</th>\n",
       "      <th>HomePrice</th>\n",
       "      <th>Vacancy_Rate%</th>\n",
       "    </tr>\n",
       "  </thead>\n",
       "  <tbody>\n",
       "    <tr>\n",
       "      <th>0</th>\n",
       "      <td>10025</td>\n",
       "      <td>3041.83</td>\n",
       "      <td>2014</td>\n",
       "      <td>0.0</td>\n",
       "      <td>NY</td>\n",
       "      <td>New York</td>\n",
       "      <td>New York-Newark-Jersey City</td>\n",
       "      <td>New York County</td>\n",
       "      <td>968761.75</td>\n",
       "      <td>9.011810</td>\n",
       "    </tr>\n",
       "    <tr>\n",
       "      <th>1</th>\n",
       "      <td>60657</td>\n",
       "      <td>1589.42</td>\n",
       "      <td>2014</td>\n",
       "      <td>1.0</td>\n",
       "      <td>IL</td>\n",
       "      <td>Chicago</td>\n",
       "      <td>Chicago-Naperville-Elgin</td>\n",
       "      <td>Cook County</td>\n",
       "      <td>450755.75</td>\n",
       "      <td>8.042922</td>\n",
       "    </tr>\n",
       "    <tr>\n",
       "      <th>2</th>\n",
       "      <td>10023</td>\n",
       "      <td>3186.67</td>\n",
       "      <td>2014</td>\n",
       "      <td>2.0</td>\n",
       "      <td>NY</td>\n",
       "      <td>New York</td>\n",
       "      <td>New York-Newark-Jersey City</td>\n",
       "      <td>New York County</td>\n",
       "      <td>1024543.17</td>\n",
       "      <td>19.964756</td>\n",
       "    </tr>\n",
       "    <tr>\n",
       "      <th>3</th>\n",
       "      <td>77494</td>\n",
       "      <td>1807.33</td>\n",
       "      <td>2014</td>\n",
       "      <td>3.0</td>\n",
       "      <td>TX</td>\n",
       "      <td>Katy</td>\n",
       "      <td>Houston-The Woodlands-Sugar Land</td>\n",
       "      <td>Harris County</td>\n",
       "      <td>322032.00</td>\n",
       "      <td>3.319292</td>\n",
       "    </tr>\n",
       "    <tr>\n",
       "      <th>4</th>\n",
       "      <td>60614</td>\n",
       "      <td>1786.25</td>\n",
       "      <td>2014</td>\n",
       "      <td>4.0</td>\n",
       "      <td>IL</td>\n",
       "      <td>Chicago</td>\n",
       "      <td>Chicago-Naperville-Elgin</td>\n",
       "      <td>Cook County</td>\n",
       "      <td>580250.92</td>\n",
       "      <td>8.468203</td>\n",
       "    </tr>\n",
       "    <tr>\n",
       "      <th>...</th>\n",
       "      <td>...</td>\n",
       "      <td>...</td>\n",
       "      <td>...</td>\n",
       "      <td>...</td>\n",
       "      <td>...</td>\n",
       "      <td>...</td>\n",
       "      <td>...</td>\n",
       "      <td>...</td>\n",
       "      <td>...</td>\n",
       "      <td>...</td>\n",
       "    </tr>\n",
       "    <tr>\n",
       "      <th>16210</th>\n",
       "      <td>02110</td>\n",
       "      <td>4643.58</td>\n",
       "      <td>2018</td>\n",
       "      <td>14752.0</td>\n",
       "      <td>MA</td>\n",
       "      <td>Boston</td>\n",
       "      <td>Boston-Cambridge-Newton</td>\n",
       "      <td>Suffolk County</td>\n",
       "      <td>1363870.08</td>\n",
       "      <td>17.412045</td>\n",
       "    </tr>\n",
       "    <tr>\n",
       "      <th>16211</th>\n",
       "      <td>20004</td>\n",
       "      <td>2432.25</td>\n",
       "      <td>2018</td>\n",
       "      <td>15149.0</td>\n",
       "      <td>DC</td>\n",
       "      <td>Washington</td>\n",
       "      <td>Washington-Arlington-Alexandria</td>\n",
       "      <td>District of Columbia</td>\n",
       "      <td>480942.83</td>\n",
       "      <td>21.036585</td>\n",
       "    </tr>\n",
       "    <tr>\n",
       "      <th>16212</th>\n",
       "      <td>80951</td>\n",
       "      <td>1537.18</td>\n",
       "      <td>2018</td>\n",
       "      <td>15318.0</td>\n",
       "      <td>CO</td>\n",
       "      <td>Colorado Springs</td>\n",
       "      <td>Colorado Springs</td>\n",
       "      <td>El Paso County</td>\n",
       "      <td>276619.83</td>\n",
       "      <td>1.084746</td>\n",
       "    </tr>\n",
       "    <tr>\n",
       "      <th>16213</th>\n",
       "      <td>11964</td>\n",
       "      <td>20122.17</td>\n",
       "      <td>2018</td>\n",
       "      <td>17169.0</td>\n",
       "      <td>NY</td>\n",
       "      <td>Town of Shelter Island</td>\n",
       "      <td>New York-Newark-Jersey City</td>\n",
       "      <td>Suffolk County</td>\n",
       "      <td>1000069.25</td>\n",
       "      <td>62.044105</td>\n",
       "    </tr>\n",
       "    <tr>\n",
       "      <th>16214</th>\n",
       "      <td>60602</td>\n",
       "      <td>2299.33</td>\n",
       "      <td>2018</td>\n",
       "      <td>18836.0</td>\n",
       "      <td>IL</td>\n",
       "      <td>Chicago</td>\n",
       "      <td>Chicago-Naperville-Elgin</td>\n",
       "      <td>Cook County</td>\n",
       "      <td>522389.33</td>\n",
       "      <td>7.668712</td>\n",
       "    </tr>\n",
       "  </tbody>\n",
       "</table>\n",
       "<p>16148 rows × 10 columns</p>\n",
       "</div>"
      ],
      "text/plain": [
       "      Zipcode  RentPrice  Year  SizeRank State                    City  \\\n",
       "0       10025    3041.83  2014       0.0    NY                New York   \n",
       "1       60657    1589.42  2014       1.0    IL                 Chicago   \n",
       "2       10023    3186.67  2014       2.0    NY                New York   \n",
       "3       77494    1807.33  2014       3.0    TX                    Katy   \n",
       "4       60614    1786.25  2014       4.0    IL                 Chicago   \n",
       "...       ...        ...   ...       ...   ...                     ...   \n",
       "16210   02110    4643.58  2018   14752.0    MA                  Boston   \n",
       "16211   20004    2432.25  2018   15149.0    DC              Washington   \n",
       "16212   80951    1537.18  2018   15318.0    CO        Colorado Springs   \n",
       "16213   11964   20122.17  2018   17169.0    NY  Town of Shelter Island   \n",
       "16214   60602    2299.33  2018   18836.0    IL                 Chicago   \n",
       "\n",
       "                                  Metro            CountyName   HomePrice  \\\n",
       "0           New York-Newark-Jersey City       New York County   968761.75   \n",
       "1              Chicago-Naperville-Elgin           Cook County   450755.75   \n",
       "2           New York-Newark-Jersey City       New York County  1024543.17   \n",
       "3      Houston-The Woodlands-Sugar Land         Harris County   322032.00   \n",
       "4              Chicago-Naperville-Elgin           Cook County   580250.92   \n",
       "...                                 ...                   ...         ...   \n",
       "16210           Boston-Cambridge-Newton        Suffolk County  1363870.08   \n",
       "16211   Washington-Arlington-Alexandria  District of Columbia   480942.83   \n",
       "16212                  Colorado Springs        El Paso County   276619.83   \n",
       "16213       New York-Newark-Jersey City        Suffolk County  1000069.25   \n",
       "16214          Chicago-Naperville-Elgin           Cook County   522389.33   \n",
       "\n",
       "       Vacancy_Rate%  \n",
       "0           9.011810  \n",
       "1           8.042922  \n",
       "2          19.964756  \n",
       "3           3.319292  \n",
       "4           8.468203  \n",
       "...              ...  \n",
       "16210      17.412045  \n",
       "16211      21.036585  \n",
       "16212       1.084746  \n",
       "16213      62.044105  \n",
       "16214       7.668712  \n",
       "\n",
       "[16148 rows x 10 columns]"
      ]
     },
     "execution_count": 166,
     "metadata": {},
     "output_type": "execute_result"
    }
   ],
   "source": [
    "#drop NaNs\n",
    "df.dropna(inplace=True)\n",
    "df"
   ]
  },
  {
   "cell_type": "code",
   "execution_count": 167,
   "metadata": {},
   "outputs": [
    {
     "data": {
      "text/plain": [
       "Los Angeles County    5.139955\n",
       "Orange County         3.405995\n",
       "Maricopa County       3.344067\n",
       "Cook County           2.508051\n",
       "San Diego County      2.043597\n",
       "                        ...   \n",
       "Medina County         0.030964\n",
       "Manassas Park City    0.030964\n",
       "Pickens County        0.030964\n",
       "Yolo County           0.030964\n",
       "Kaufman County        0.030964\n",
       "Name: CountyName, Length: 269, dtype: float64"
      ]
     },
     "execution_count": 167,
     "metadata": {},
     "output_type": "execute_result"
    }
   ],
   "source": [
    "#check unique values for each column\n",
    "df['CountyName'].value_counts()/len(df)*100"
   ]
  },
  {
   "cell_type": "code",
   "execution_count": 168,
   "metadata": {
    "scrolled": true
   },
   "outputs": [
    {
     "name": "stdout",
     "output_type": "stream",
     "text": [
      "train size: 12918.400000000001 test size: 3229.6000000000004\n"
     ]
    }
   ],
   "source": [
    "#check partition sizes with a 80/20 train/test split\n",
    "print('train size:', len(df) * .8, 'test size:', len(df) * .2)"
   ]
  },
  {
   "cell_type": "markdown",
   "metadata": {},
   "source": [
    "###  1. Create dummy or indicator features for categorical variables\n",
    "Hint: you’ll need to think about your old favorite pandas functions here like\n",
    "get_dummies() . Consult this guide for help.\n",
    "<https://towardsdatascience.com/the-dummys-guide-to-creating-dummy-variables-f21faddb1d40>"
   ]
  },
  {
   "cell_type": "code",
   "execution_count": 169,
   "metadata": {},
   "outputs": [
    {
     "name": "stderr",
     "output_type": "stream",
     "text": [
      "/opt/anaconda3/lib/python3.7/site-packages/pandas/core/generic.py:5159: SettingWithCopyWarning: \n",
      "A value is trying to be set on a copy of a slice from a DataFrame.\n",
      "Try using .loc[row_indexer,col_indexer] = value instead\n",
      "\n",
      "See the caveats in the documentation: https://pandas.pydata.org/pandas-docs/stable/user_guide/indexing.html#returning-a-view-versus-a-copy\n",
      "  self[name] = value\n"
     ]
    },
    {
     "data": {
      "text/plain": [
       "Zipcode            int64\n",
       "RentPrice        float64\n",
       "Year               int64\n",
       "SizeRank         float64\n",
       "State             object\n",
       "City              object\n",
       "Metro             object\n",
       "CountyName        object\n",
       "HomePrice        float64\n",
       "Vacancy_Rate%    float64\n",
       "dtype: object"
      ]
     },
     "execution_count": 169,
     "metadata": {},
     "output_type": "execute_result"
    }
   ],
   "source": [
    "#change zipcode so it's not turned into a dummy variable\n",
    "df.Zipcode = df.Zipcode.astype('int')\n",
    "df.dtypes"
   ]
  },
  {
   "cell_type": "code",
   "execution_count": 170,
   "metadata": {},
   "outputs": [
    {
     "data": {
      "text/html": [
       "<div>\n",
       "<style scoped>\n",
       "    .dataframe tbody tr th:only-of-type {\n",
       "        vertical-align: middle;\n",
       "    }\n",
       "\n",
       "    .dataframe tbody tr th {\n",
       "        vertical-align: top;\n",
       "    }\n",
       "\n",
       "    .dataframe thead th {\n",
       "        text-align: right;\n",
       "    }\n",
       "</style>\n",
       "<table border=\"1\" class=\"dataframe\">\n",
       "  <thead>\n",
       "    <tr style=\"text-align: right;\">\n",
       "      <th></th>\n",
       "      <th>Zipcode</th>\n",
       "      <th>RentPrice</th>\n",
       "      <th>Year</th>\n",
       "      <th>SizeRank</th>\n",
       "      <th>HomePrice</th>\n",
       "      <th>Vacancy_Rate%</th>\n",
       "      <th>State_AL</th>\n",
       "      <th>State_AR</th>\n",
       "      <th>State_AZ</th>\n",
       "      <th>State_CA</th>\n",
       "      <th>...</th>\n",
       "      <th>CountyName_Weber County</th>\n",
       "      <th>CountyName_Weld County</th>\n",
       "      <th>CountyName_Westchester County</th>\n",
       "      <th>CountyName_Will County</th>\n",
       "      <th>CountyName_Williamson County</th>\n",
       "      <th>CountyName_Wilson County</th>\n",
       "      <th>CountyName_Worcester County</th>\n",
       "      <th>CountyName_Yamhill County</th>\n",
       "      <th>CountyName_Yolo County</th>\n",
       "      <th>CountyName_York County</th>\n",
       "    </tr>\n",
       "  </thead>\n",
       "  <tbody>\n",
       "    <tr>\n",
       "      <th>0</th>\n",
       "      <td>10025</td>\n",
       "      <td>3041.83</td>\n",
       "      <td>2014</td>\n",
       "      <td>0.0</td>\n",
       "      <td>968761.75</td>\n",
       "      <td>9.011810</td>\n",
       "      <td>0</td>\n",
       "      <td>0</td>\n",
       "      <td>0</td>\n",
       "      <td>0</td>\n",
       "      <td>...</td>\n",
       "      <td>0</td>\n",
       "      <td>0</td>\n",
       "      <td>0</td>\n",
       "      <td>0</td>\n",
       "      <td>0</td>\n",
       "      <td>0</td>\n",
       "      <td>0</td>\n",
       "      <td>0</td>\n",
       "      <td>0</td>\n",
       "      <td>0</td>\n",
       "    </tr>\n",
       "    <tr>\n",
       "      <th>1</th>\n",
       "      <td>60657</td>\n",
       "      <td>1589.42</td>\n",
       "      <td>2014</td>\n",
       "      <td>1.0</td>\n",
       "      <td>450755.75</td>\n",
       "      <td>8.042922</td>\n",
       "      <td>0</td>\n",
       "      <td>0</td>\n",
       "      <td>0</td>\n",
       "      <td>0</td>\n",
       "      <td>...</td>\n",
       "      <td>0</td>\n",
       "      <td>0</td>\n",
       "      <td>0</td>\n",
       "      <td>0</td>\n",
       "      <td>0</td>\n",
       "      <td>0</td>\n",
       "      <td>0</td>\n",
       "      <td>0</td>\n",
       "      <td>0</td>\n",
       "      <td>0</td>\n",
       "    </tr>\n",
       "    <tr>\n",
       "      <th>2</th>\n",
       "      <td>10023</td>\n",
       "      <td>3186.67</td>\n",
       "      <td>2014</td>\n",
       "      <td>2.0</td>\n",
       "      <td>1024543.17</td>\n",
       "      <td>19.964756</td>\n",
       "      <td>0</td>\n",
       "      <td>0</td>\n",
       "      <td>0</td>\n",
       "      <td>0</td>\n",
       "      <td>...</td>\n",
       "      <td>0</td>\n",
       "      <td>0</td>\n",
       "      <td>0</td>\n",
       "      <td>0</td>\n",
       "      <td>0</td>\n",
       "      <td>0</td>\n",
       "      <td>0</td>\n",
       "      <td>0</td>\n",
       "      <td>0</td>\n",
       "      <td>0</td>\n",
       "    </tr>\n",
       "    <tr>\n",
       "      <th>3</th>\n",
       "      <td>77494</td>\n",
       "      <td>1807.33</td>\n",
       "      <td>2014</td>\n",
       "      <td>3.0</td>\n",
       "      <td>322032.00</td>\n",
       "      <td>3.319292</td>\n",
       "      <td>0</td>\n",
       "      <td>0</td>\n",
       "      <td>0</td>\n",
       "      <td>0</td>\n",
       "      <td>...</td>\n",
       "      <td>0</td>\n",
       "      <td>0</td>\n",
       "      <td>0</td>\n",
       "      <td>0</td>\n",
       "      <td>0</td>\n",
       "      <td>0</td>\n",
       "      <td>0</td>\n",
       "      <td>0</td>\n",
       "      <td>0</td>\n",
       "      <td>0</td>\n",
       "    </tr>\n",
       "    <tr>\n",
       "      <th>4</th>\n",
       "      <td>60614</td>\n",
       "      <td>1786.25</td>\n",
       "      <td>2014</td>\n",
       "      <td>4.0</td>\n",
       "      <td>580250.92</td>\n",
       "      <td>8.468203</td>\n",
       "      <td>0</td>\n",
       "      <td>0</td>\n",
       "      <td>0</td>\n",
       "      <td>0</td>\n",
       "      <td>...</td>\n",
       "      <td>0</td>\n",
       "      <td>0</td>\n",
       "      <td>0</td>\n",
       "      <td>0</td>\n",
       "      <td>0</td>\n",
       "      <td>0</td>\n",
       "      <td>0</td>\n",
       "      <td>0</td>\n",
       "      <td>0</td>\n",
       "      <td>0</td>\n",
       "    </tr>\n",
       "    <tr>\n",
       "      <th>...</th>\n",
       "      <td>...</td>\n",
       "      <td>...</td>\n",
       "      <td>...</td>\n",
       "      <td>...</td>\n",
       "      <td>...</td>\n",
       "      <td>...</td>\n",
       "      <td>...</td>\n",
       "      <td>...</td>\n",
       "      <td>...</td>\n",
       "      <td>...</td>\n",
       "      <td>...</td>\n",
       "      <td>...</td>\n",
       "      <td>...</td>\n",
       "      <td>...</td>\n",
       "      <td>...</td>\n",
       "      <td>...</td>\n",
       "      <td>...</td>\n",
       "      <td>...</td>\n",
       "      <td>...</td>\n",
       "      <td>...</td>\n",
       "      <td>...</td>\n",
       "    </tr>\n",
       "    <tr>\n",
       "      <th>16210</th>\n",
       "      <td>2110</td>\n",
       "      <td>4643.58</td>\n",
       "      <td>2018</td>\n",
       "      <td>14752.0</td>\n",
       "      <td>1363870.08</td>\n",
       "      <td>17.412045</td>\n",
       "      <td>0</td>\n",
       "      <td>0</td>\n",
       "      <td>0</td>\n",
       "      <td>0</td>\n",
       "      <td>...</td>\n",
       "      <td>0</td>\n",
       "      <td>0</td>\n",
       "      <td>0</td>\n",
       "      <td>0</td>\n",
       "      <td>0</td>\n",
       "      <td>0</td>\n",
       "      <td>0</td>\n",
       "      <td>0</td>\n",
       "      <td>0</td>\n",
       "      <td>0</td>\n",
       "    </tr>\n",
       "    <tr>\n",
       "      <th>16211</th>\n",
       "      <td>20004</td>\n",
       "      <td>2432.25</td>\n",
       "      <td>2018</td>\n",
       "      <td>15149.0</td>\n",
       "      <td>480942.83</td>\n",
       "      <td>21.036585</td>\n",
       "      <td>0</td>\n",
       "      <td>0</td>\n",
       "      <td>0</td>\n",
       "      <td>0</td>\n",
       "      <td>...</td>\n",
       "      <td>0</td>\n",
       "      <td>0</td>\n",
       "      <td>0</td>\n",
       "      <td>0</td>\n",
       "      <td>0</td>\n",
       "      <td>0</td>\n",
       "      <td>0</td>\n",
       "      <td>0</td>\n",
       "      <td>0</td>\n",
       "      <td>0</td>\n",
       "    </tr>\n",
       "    <tr>\n",
       "      <th>16212</th>\n",
       "      <td>80951</td>\n",
       "      <td>1537.18</td>\n",
       "      <td>2018</td>\n",
       "      <td>15318.0</td>\n",
       "      <td>276619.83</td>\n",
       "      <td>1.084746</td>\n",
       "      <td>0</td>\n",
       "      <td>0</td>\n",
       "      <td>0</td>\n",
       "      <td>0</td>\n",
       "      <td>...</td>\n",
       "      <td>0</td>\n",
       "      <td>0</td>\n",
       "      <td>0</td>\n",
       "      <td>0</td>\n",
       "      <td>0</td>\n",
       "      <td>0</td>\n",
       "      <td>0</td>\n",
       "      <td>0</td>\n",
       "      <td>0</td>\n",
       "      <td>0</td>\n",
       "    </tr>\n",
       "    <tr>\n",
       "      <th>16213</th>\n",
       "      <td>11964</td>\n",
       "      <td>20122.17</td>\n",
       "      <td>2018</td>\n",
       "      <td>17169.0</td>\n",
       "      <td>1000069.25</td>\n",
       "      <td>62.044105</td>\n",
       "      <td>0</td>\n",
       "      <td>0</td>\n",
       "      <td>0</td>\n",
       "      <td>0</td>\n",
       "      <td>...</td>\n",
       "      <td>0</td>\n",
       "      <td>0</td>\n",
       "      <td>0</td>\n",
       "      <td>0</td>\n",
       "      <td>0</td>\n",
       "      <td>0</td>\n",
       "      <td>0</td>\n",
       "      <td>0</td>\n",
       "      <td>0</td>\n",
       "      <td>0</td>\n",
       "    </tr>\n",
       "    <tr>\n",
       "      <th>16214</th>\n",
       "      <td>60602</td>\n",
       "      <td>2299.33</td>\n",
       "      <td>2018</td>\n",
       "      <td>18836.0</td>\n",
       "      <td>522389.33</td>\n",
       "      <td>7.668712</td>\n",
       "      <td>0</td>\n",
       "      <td>0</td>\n",
       "      <td>0</td>\n",
       "      <td>0</td>\n",
       "      <td>...</td>\n",
       "      <td>0</td>\n",
       "      <td>0</td>\n",
       "      <td>0</td>\n",
       "      <td>0</td>\n",
       "      <td>0</td>\n",
       "      <td>0</td>\n",
       "      <td>0</td>\n",
       "      <td>0</td>\n",
       "      <td>0</td>\n",
       "      <td>0</td>\n",
       "    </tr>\n",
       "  </tbody>\n",
       "</table>\n",
       "<p>16148 rows × 1754 columns</p>\n",
       "</div>"
      ],
      "text/plain": [
       "       Zipcode  RentPrice  Year  SizeRank   HomePrice  Vacancy_Rate%  \\\n",
       "0        10025    3041.83  2014       0.0   968761.75       9.011810   \n",
       "1        60657    1589.42  2014       1.0   450755.75       8.042922   \n",
       "2        10023    3186.67  2014       2.0  1024543.17      19.964756   \n",
       "3        77494    1807.33  2014       3.0   322032.00       3.319292   \n",
       "4        60614    1786.25  2014       4.0   580250.92       8.468203   \n",
       "...        ...        ...   ...       ...         ...            ...   \n",
       "16210     2110    4643.58  2018   14752.0  1363870.08      17.412045   \n",
       "16211    20004    2432.25  2018   15149.0   480942.83      21.036585   \n",
       "16212    80951    1537.18  2018   15318.0   276619.83       1.084746   \n",
       "16213    11964   20122.17  2018   17169.0  1000069.25      62.044105   \n",
       "16214    60602    2299.33  2018   18836.0   522389.33       7.668712   \n",
       "\n",
       "       State_AL  State_AR  State_AZ  State_CA  ...  CountyName_Weber County  \\\n",
       "0             0         0         0         0  ...                        0   \n",
       "1             0         0         0         0  ...                        0   \n",
       "2             0         0         0         0  ...                        0   \n",
       "3             0         0         0         0  ...                        0   \n",
       "4             0         0         0         0  ...                        0   \n",
       "...         ...       ...       ...       ...  ...                      ...   \n",
       "16210         0         0         0         0  ...                        0   \n",
       "16211         0         0         0         0  ...                        0   \n",
       "16212         0         0         0         0  ...                        0   \n",
       "16213         0         0         0         0  ...                        0   \n",
       "16214         0         0         0         0  ...                        0   \n",
       "\n",
       "       CountyName_Weld County  CountyName_Westchester County  \\\n",
       "0                           0                              0   \n",
       "1                           0                              0   \n",
       "2                           0                              0   \n",
       "3                           0                              0   \n",
       "4                           0                              0   \n",
       "...                       ...                            ...   \n",
       "16210                       0                              0   \n",
       "16211                       0                              0   \n",
       "16212                       0                              0   \n",
       "16213                       0                              0   \n",
       "16214                       0                              0   \n",
       "\n",
       "       CountyName_Will County  CountyName_Williamson County  \\\n",
       "0                           0                             0   \n",
       "1                           0                             0   \n",
       "2                           0                             0   \n",
       "3                           0                             0   \n",
       "4                           0                             0   \n",
       "...                       ...                           ...   \n",
       "16210                       0                             0   \n",
       "16211                       0                             0   \n",
       "16212                       0                             0   \n",
       "16213                       0                             0   \n",
       "16214                       0                             0   \n",
       "\n",
       "       CountyName_Wilson County  CountyName_Worcester County  \\\n",
       "0                             0                            0   \n",
       "1                             0                            0   \n",
       "2                             0                            0   \n",
       "3                             0                            0   \n",
       "4                             0                            0   \n",
       "...                         ...                          ...   \n",
       "16210                         0                            0   \n",
       "16211                         0                            0   \n",
       "16212                         0                            0   \n",
       "16213                         0                            0   \n",
       "16214                         0                            0   \n",
       "\n",
       "       CountyName_Yamhill County  CountyName_Yolo County  \\\n",
       "0                              0                       0   \n",
       "1                              0                       0   \n",
       "2                              0                       0   \n",
       "3                              0                       0   \n",
       "4                              0                       0   \n",
       "...                          ...                     ...   \n",
       "16210                          0                       0   \n",
       "16211                          0                       0   \n",
       "16212                          0                       0   \n",
       "16213                          0                       0   \n",
       "16214                          0                       0   \n",
       "\n",
       "       CountyName_York County  \n",
       "0                           0  \n",
       "1                           0  \n",
       "2                           0  \n",
       "3                           0  \n",
       "4                           0  \n",
       "...                       ...  \n",
       "16210                       0  \n",
       "16211                       0  \n",
       "16212                       0  \n",
       "16213                       0  \n",
       "16214                       0  \n",
       "\n",
       "[16148 rows x 1754 columns]"
      ]
     },
     "execution_count": 170,
     "metadata": {},
     "output_type": "execute_result"
    }
   ],
   "source": [
    "#get dummy variables for 'object' columns \n",
    "df = pd.get_dummies(df)\n",
    "df"
   ]
  },
  {
   "cell_type": "markdown",
   "metadata": {},
   "source": [
    "### 2. Split into testing and training datasets\n",
    "Hint: don’t forget your sklearn functions here, like train_test_split()."
   ]
  },
  {
   "cell_type": "code",
   "execution_count": 171,
   "metadata": {},
   "outputs": [],
   "source": [
    "#define variable X, y\n",
    "X = df.drop('Vacancy_Rate%', axis=1)\n",
    "y = df['Vacancy_Rate%']"
   ]
  },
  {
   "cell_type": "code",
   "execution_count": 172,
   "metadata": {},
   "outputs": [],
   "source": [
    "#train test split\n",
    "X_train, X_test, y_train, y_test = train_test_split(X, y, test_size=0.20, random_state=42)"
   ]
  },
  {
   "cell_type": "code",
   "execution_count": 173,
   "metadata": {},
   "outputs": [
    {
     "data": {
      "text/plain": [
       "'\\ntss = TimeSeriesSplit(n_splits = 5)\\nfor train_index, test_index in tss.split(X):\\n    X_train, X_test = X.iloc[train_index, :], X.iloc[test_index,:]\\n    y_train, y_test = y.iloc[train_index], y.iloc[test_index]\\n'"
      ]
     },
     "execution_count": 173,
     "metadata": {},
     "output_type": "execute_result"
    }
   ],
   "source": [
    "#train, test split for timeseries\n",
    "'''\n",
    "tss = TimeSeriesSplit(n_splits = 5)\n",
    "for train_index, test_index in tss.split(X):\n",
    "    X_train, X_test = X.iloc[train_index, :], X.iloc[test_index,:]\n",
    "    y_train, y_test = y.iloc[train_index], y.iloc[test_index]\n",
    "'''"
   ]
  },
  {
   "cell_type": "markdown",
   "metadata": {},
   "source": [
    "### Establish Baseline Measurement Comparisons\n",
    "Using a Dummy Regressor see what R2, MSE, and MAE would be if the mean of the DataFrames were used"
   ]
  },
  {
   "cell_type": "code",
   "execution_count": 174,
   "metadata": {},
   "outputs": [
    {
     "name": "stdout",
     "output_type": "stream",
     "text": [
      "9.945067775520311\n"
     ]
    }
   ],
   "source": [
    "#initial not even a model\n",
    "train_mean = y_train.mean()\n",
    "\n",
    "print(train_mean)"
   ]
  },
  {
   "cell_type": "code",
   "execution_count": 175,
   "metadata": {},
   "outputs": [
    {
     "data": {
      "text/plain": [
       "(0.0, -0.001031839268772039)"
      ]
     },
     "execution_count": 175,
     "metadata": {},
     "output_type": "execute_result"
    }
   ],
   "source": [
    "#Fit the dummy regressor on the training data\n",
    "dumb_reg = DummyRegressor(strategy='mean')\n",
    "dumb_reg.fit(X_train, y_train)\n",
    "#create dummy regressor predictions \n",
    "y_tr_pred = dumb_reg.predict(X_train)\n",
    "#Make prediction with the single value of the (training) mean.\n",
    "y_te_pred = train_mean * np.ones(len(y_test))\n",
    "r2_score(y_train, y_tr_pred), r2_score(y_test, y_te_pred)"
   ]
  },
  {
   "cell_type": "code",
   "execution_count": 176,
   "metadata": {},
   "outputs": [
    {
     "name": "stdout",
     "output_type": "stream",
     "text": [
      "MAEs: 5.14329246126588 4.923647741748382\n",
      "MSEs: 57.38168678632161 48.79685160338582\n"
     ]
    }
   ],
   "source": [
    "#establish baseline for mean absolute error and mean square error \n",
    "print('MAEs:', mean_absolute_error(y_train, y_tr_pred), mean_absolute_error(y_test, y_te_pred))\n",
    "print('MSEs:', mean_squared_error(y_train, y_tr_pred), mean_squared_error(y_test, y_te_pred))"
   ]
  },
  {
   "cell_type": "markdown",
   "metadata": {},
   "source": [
    "### 3. Standardize the magnitude of numeric features using a scaler\n",
    "Hint: you might need to employ Python code like this:"
   ]
  },
  {
   "cell_type": "code",
   "execution_count": 177,
   "metadata": {},
   "outputs": [
    {
     "data": {
      "text/plain": [
       "'\\n# Making a Scaler object\\nscaler = preprocessing.StandardScaler()\\n# Fitting data to the scaler object\\nscaled_df = scaler.fit_transform(df)\\nscaled_df = pd.DataFrame(scaled_df, columns=names)\\n'"
      ]
     },
     "execution_count": 177,
     "metadata": {},
     "output_type": "execute_result"
    }
   ],
   "source": [
    "'''\n",
    "# Making a Scaler object\n",
    "scaler = preprocessing.StandardScaler()\n",
    "# Fitting data to the scaler object\n",
    "scaled_df = scaler.fit_transform(df)\n",
    "scaled_df = pd.DataFrame(scaled_df, columns=names)\n",
    "'''"
   ]
  },
  {
   "cell_type": "code",
   "execution_count": 178,
   "metadata": {},
   "outputs": [],
   "source": [
    "scaler = StandardScaler()\n",
    "#fit the scaler on the training set\n",
    "scaler.fit(X_train)\n",
    "#apply the scaling to both the train and test split\n",
    "X_tr_scaled = scaler.transform(X_train)\n",
    "X_te_scaled = scaler.transform(X_test)"
   ]
  },
  {
   "cell_type": "markdown",
   "metadata": {},
   "source": [
    "#### Initial Model: Train the model on the train split"
   ]
  },
  {
   "cell_type": "code",
   "execution_count": 179,
   "metadata": {},
   "outputs": [],
   "source": [
    "lm = LinearRegression().fit(X_train, y_train)"
   ]
  },
  {
   "cell_type": "code",
   "execution_count": 180,
   "metadata": {},
   "outputs": [],
   "source": [
    "#Make predictions using the model on both train and test splits\n",
    "y_tr_pred = lm.predict(X_train)\n",
    "y_te_pred = lm.predict(X_test)"
   ]
  },
  {
   "cell_type": "code",
   "execution_count": 181,
   "metadata": {},
   "outputs": [
    {
     "name": "stdout",
     "output_type": "stream",
     "text": [
      "r2: (0.768776456699221, 0.7445860460230321)\n"
     ]
    }
   ],
   "source": [
    "#Assess model performance\n",
    "# r^2 - train, test\n",
    "r2 = r2_score(y_train, y_tr_pred), r2_score(y_test, y_te_pred)\n",
    "print('r2:', r2)"
   ]
  },
  {
   "cell_type": "markdown",
   "metadata": {},
   "source": [
    "**This is markedly better performance than when using Dummy variable/mean for R^2 (see earlier):**\n",
    "\n",
    "Dummy R2 = (0.0, -0.001031839268772039)"
   ]
  },
  {
   "cell_type": "code",
   "execution_count": 182,
   "metadata": {},
   "outputs": [
    {
     "name": "stdout",
     "output_type": "stream",
     "text": [
      "mae: (2.171663043231668, 2.233852376189822)\n"
     ]
    }
   ],
   "source": [
    "#MAE - train, test\n",
    "mae = mean_absolute_error(y_train, y_tr_pred), mean_absolute_error(y_test, y_te_pred)\n",
    "print('mae:', mae)"
   ]
  },
  {
   "cell_type": "code",
   "execution_count": 183,
   "metadata": {},
   "outputs": [
    {
     "name": "stdout",
     "output_type": "stream",
     "text": [
      "mse: (13.267996939308773, 12.450549843401891)\n"
     ]
    }
   ],
   "source": [
    "# MSE - train, test\n",
    "mse = mean_squared_error(y_train, y_tr_pred), mean_squared_error(y_test, y_te_pred)\n",
    "print('mse:', mse)"
   ]
  },
  {
   "cell_type": "markdown",
   "metadata": {},
   "source": [
    "**This is markedly better performance than when using Dummy variable/mean for R^2 (see earlier):**\n",
    "\n",
    "Dummy -\n",
    "\n",
    "MAEs: 5.14329246126588 4.923647741748382\n",
    "\n",
    "MSEs: 57.38168678632161 48.79685160338582\n",
    "\n",
    "**MSE still high (possibly due to this being a large data set**"
   ]
  },
  {
   "cell_type": "markdown",
   "metadata": {},
   "source": [
    "## Save processed data"
   ]
  },
  {
   "cell_type": "code",
   "execution_count": 184,
   "metadata": {},
   "outputs": [],
   "source": [
    "#save vacancy rate data for modeling - remember to use random state=42!\n",
    "df.to_csv(r'/Users/josephfrasca/Coding_Stuff/Springboard/Capstone_2/data/processed/VacancyRate_Zillow_2014_2018', index=False)\n",
    "df_2019_2020.to_csv(r'/Users/josephfrasca/Coding_Stuff/Springboard/Capstone_2/data/processed/VacancyRate_Zillow_2019_2020', index=False)"
   ]
  },
  {
   "cell_type": "code",
   "execution_count": 25,
   "metadata": {},
   "outputs": [],
   "source": [
    "#save the scaled training and test splits\n",
    "\n",
    "#X_tr_scaled.to_csv(r'/Users/josephfrasca/Coding_Stuff/Springboard/Capstone_2/data/processed/X_tr_scaled', index=False)\n",
    "#X_te_scaled"
   ]
  },
  {
   "cell_type": "markdown",
   "metadata": {},
   "source": [
    "### Summary\n",
    "This summary should provide a quick overview for someone wanting to know quickly why the given model was chosen for the next part of the business problem to help guide important business decisions."
   ]
  },
  {
   "cell_type": "code",
   "execution_count": 26,
   "metadata": {},
   "outputs": [],
   "source": [
    "#complete summary"
   ]
  },
  {
   "cell_type": "markdown",
   "metadata": {},
   "source": [
    "### Reflection: \n",
    "**Review the following questions and apply them to your dataset**:\n",
    "\n",
    "● Does my data set have any categorical data, such as Gender or day of the week?\n",
    "\n",
    "● Do my features have data values that range from 0 - 100 or 0-1 or both and more"
   ]
  },
  {
   "cell_type": "code",
   "execution_count": 27,
   "metadata": {},
   "outputs": [],
   "source": [
    "#try to add in categorical varirables: city, metro, sizerank etc.\n",
    "    #need to create pd.get_dummies to handle this\n",
    "#add in other FRED/ACS data points from 2011-2018 (both zipcode and national)\n",
    "    #train model on scaled data!!! (after adding in other variables)"
   ]
  }
 ],
 "metadata": {
  "kernelspec": {
   "display_name": "Python 3",
   "language": "python",
   "name": "python3"
  },
  "language_info": {
   "codemirror_mode": {
    "name": "ipython",
    "version": 3
   },
   "file_extension": ".py",
   "mimetype": "text/x-python",
   "name": "python",
   "nbconvert_exporter": "python",
   "pygments_lexer": "ipython3",
   "version": "3.7.6"
  }
 },
 "nbformat": 4,
 "nbformat_minor": 4
}
