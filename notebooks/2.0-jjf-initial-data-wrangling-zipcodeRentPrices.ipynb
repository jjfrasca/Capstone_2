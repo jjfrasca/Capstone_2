{
 "cells": [
  {
   "cell_type": "markdown",
   "metadata": {},
   "source": [
    "## Data Wrangling Home Prices by Zipcode\n",
    "from Zillow public data"
   ]
  },
  {
   "cell_type": "code",
   "execution_count": 1,
   "metadata": {},
   "outputs": [],
   "source": [
    "#Import pandas, matplotlib.pyplot, and seaborn\n",
    "import pandas as pd\n",
    "import matplotlib.pyplot as plt\n",
    "import seaborn as sns\n",
    "import os\n",
    "import numpy as np"
   ]
  },
  {
   "cell_type": "code",
   "execution_count": 2,
   "metadata": {},
   "outputs": [],
   "source": [
    "#change directory to get data\n",
    "path= '/Users/josephfrasca/Coding_Stuff/Springboard/Capstone_2/data/raw'\n",
    "os.chdir(path)"
   ]
  },
  {
   "cell_type": "code",
   "execution_count": 3,
   "metadata": {},
   "outputs": [],
   "source": [
    "#load rental data\n",
    "df_rents = pd.read_csv('Zip_ZORI_AllHomesPlusMultifamily_SSA.csv')"
   ]
  },
  {
   "cell_type": "code",
   "execution_count": 5,
   "metadata": {},
   "outputs": [
    {
     "data": {
      "text/html": [
       "<div>\n",
       "<style scoped>\n",
       "    .dataframe tbody tr th:only-of-type {\n",
       "        vertical-align: middle;\n",
       "    }\n",
       "\n",
       "    .dataframe tbody tr th {\n",
       "        vertical-align: top;\n",
       "    }\n",
       "\n",
       "    .dataframe thead th {\n",
       "        text-align: right;\n",
       "    }\n",
       "</style>\n",
       "<table border=\"1\" class=\"dataframe\">\n",
       "  <thead>\n",
       "    <tr style=\"text-align: right;\">\n",
       "      <th></th>\n",
       "      <th>RegionID</th>\n",
       "      <th>RegionName</th>\n",
       "      <th>SizeRank</th>\n",
       "      <th>MsaName</th>\n",
       "      <th>2014-01</th>\n",
       "      <th>2014-02</th>\n",
       "      <th>2014-03</th>\n",
       "      <th>2014-04</th>\n",
       "      <th>2014-05</th>\n",
       "      <th>2014-06</th>\n",
       "      <th>...</th>\n",
       "      <th>2019-12</th>\n",
       "      <th>2020-01</th>\n",
       "      <th>2020-02</th>\n",
       "      <th>2020-03</th>\n",
       "      <th>2020-04</th>\n",
       "      <th>2020-05</th>\n",
       "      <th>2020-06</th>\n",
       "      <th>2020-07</th>\n",
       "      <th>2020-08</th>\n",
       "      <th>2020-09</th>\n",
       "    </tr>\n",
       "  </thead>\n",
       "  <tbody>\n",
       "    <tr>\n",
       "      <th>0</th>\n",
       "      <td>61639</td>\n",
       "      <td>10025</td>\n",
       "      <td>1</td>\n",
       "      <td>New York, NY</td>\n",
       "      <td>2971.0</td>\n",
       "      <td>2984.0</td>\n",
       "      <td>2997.0</td>\n",
       "      <td>3010.0</td>\n",
       "      <td>3023.0</td>\n",
       "      <td>3036.0</td>\n",
       "      <td>...</td>\n",
       "      <td>3250.0</td>\n",
       "      <td>3237.0</td>\n",
       "      <td>3216.0</td>\n",
       "      <td>3194.0</td>\n",
       "      <td>3172.0</td>\n",
       "      <td>3149.0</td>\n",
       "      <td>3125.0</td>\n",
       "      <td>3102.0</td>\n",
       "      <td>3076.0</td>\n",
       "      <td>3049.0</td>\n",
       "    </tr>\n",
       "    <tr>\n",
       "      <th>1</th>\n",
       "      <td>84654</td>\n",
       "      <td>60657</td>\n",
       "      <td>2</td>\n",
       "      <td>Chicago, IL</td>\n",
       "      <td>1561.0</td>\n",
       "      <td>1567.0</td>\n",
       "      <td>1572.0</td>\n",
       "      <td>1577.0</td>\n",
       "      <td>1582.0</td>\n",
       "      <td>1587.0</td>\n",
       "      <td>...</td>\n",
       "      <td>1804.0</td>\n",
       "      <td>1803.0</td>\n",
       "      <td>1801.0</td>\n",
       "      <td>1798.0</td>\n",
       "      <td>1795.0</td>\n",
       "      <td>1792.0</td>\n",
       "      <td>1789.0</td>\n",
       "      <td>1786.0</td>\n",
       "      <td>1782.0</td>\n",
       "      <td>1778.0</td>\n",
       "    </tr>\n",
       "    <tr>\n",
       "      <th>2</th>\n",
       "      <td>61637</td>\n",
       "      <td>10023</td>\n",
       "      <td>3</td>\n",
       "      <td>New York, NY</td>\n",
       "      <td>3145.0</td>\n",
       "      <td>3154.0</td>\n",
       "      <td>3162.0</td>\n",
       "      <td>3170.0</td>\n",
       "      <td>3177.0</td>\n",
       "      <td>3184.0</td>\n",
       "      <td>...</td>\n",
       "      <td>3359.0</td>\n",
       "      <td>3348.0</td>\n",
       "      <td>3329.0</td>\n",
       "      <td>3310.0</td>\n",
       "      <td>3291.0</td>\n",
       "      <td>3270.0</td>\n",
       "      <td>3249.0</td>\n",
       "      <td>3228.0</td>\n",
       "      <td>3205.0</td>\n",
       "      <td>3182.0</td>\n",
       "    </tr>\n",
       "    <tr>\n",
       "      <th>3</th>\n",
       "      <td>91982</td>\n",
       "      <td>77494</td>\n",
       "      <td>4</td>\n",
       "      <td>Houston, TX</td>\n",
       "      <td>1790.0</td>\n",
       "      <td>1793.0</td>\n",
       "      <td>1797.0</td>\n",
       "      <td>1800.0</td>\n",
       "      <td>1803.0</td>\n",
       "      <td>1806.0</td>\n",
       "      <td>...</td>\n",
       "      <td>1803.0</td>\n",
       "      <td>1804.0</td>\n",
       "      <td>1806.0</td>\n",
       "      <td>1808.0</td>\n",
       "      <td>1809.0</td>\n",
       "      <td>1811.0</td>\n",
       "      <td>1813.0</td>\n",
       "      <td>1814.0</td>\n",
       "      <td>1816.0</td>\n",
       "      <td>1818.0</td>\n",
       "    </tr>\n",
       "    <tr>\n",
       "      <th>4</th>\n",
       "      <td>84616</td>\n",
       "      <td>60614</td>\n",
       "      <td>5</td>\n",
       "      <td>Chicago, IL</td>\n",
       "      <td>1760.0</td>\n",
       "      <td>1765.0</td>\n",
       "      <td>1770.0</td>\n",
       "      <td>1775.0</td>\n",
       "      <td>1780.0</td>\n",
       "      <td>1785.0</td>\n",
       "      <td>...</td>\n",
       "      <td>2046.0</td>\n",
       "      <td>2046.0</td>\n",
       "      <td>2043.0</td>\n",
       "      <td>2041.0</td>\n",
       "      <td>2039.0</td>\n",
       "      <td>2036.0</td>\n",
       "      <td>2033.0</td>\n",
       "      <td>2031.0</td>\n",
       "      <td>2027.0</td>\n",
       "      <td>2023.0</td>\n",
       "    </tr>\n",
       "  </tbody>\n",
       "</table>\n",
       "<p>5 rows × 85 columns</p>\n",
       "</div>"
      ],
      "text/plain": [
       "   RegionID  RegionName  SizeRank       MsaName  2014-01  2014-02  2014-03  \\\n",
       "0     61639       10025         1  New York, NY   2971.0   2984.0   2997.0   \n",
       "1     84654       60657         2   Chicago, IL   1561.0   1567.0   1572.0   \n",
       "2     61637       10023         3  New York, NY   3145.0   3154.0   3162.0   \n",
       "3     91982       77494         4   Houston, TX   1790.0   1793.0   1797.0   \n",
       "4     84616       60614         5   Chicago, IL   1760.0   1765.0   1770.0   \n",
       "\n",
       "   2014-04  2014-05  2014-06  ...  2019-12  2020-01  2020-02  2020-03  \\\n",
       "0   3010.0   3023.0   3036.0  ...   3250.0   3237.0   3216.0   3194.0   \n",
       "1   1577.0   1582.0   1587.0  ...   1804.0   1803.0   1801.0   1798.0   \n",
       "2   3170.0   3177.0   3184.0  ...   3359.0   3348.0   3329.0   3310.0   \n",
       "3   1800.0   1803.0   1806.0  ...   1803.0   1804.0   1806.0   1808.0   \n",
       "4   1775.0   1780.0   1785.0  ...   2046.0   2046.0   2043.0   2041.0   \n",
       "\n",
       "   2020-04  2020-05  2020-06  2020-07  2020-08  2020-09  \n",
       "0   3172.0   3149.0   3125.0   3102.0   3076.0   3049.0  \n",
       "1   1795.0   1792.0   1789.0   1786.0   1782.0   1778.0  \n",
       "2   3291.0   3270.0   3249.0   3228.0   3205.0   3182.0  \n",
       "3   1809.0   1811.0   1813.0   1814.0   1816.0   1818.0  \n",
       "4   2039.0   2036.0   2033.0   2031.0   2027.0   2023.0  \n",
       "\n",
       "[5 rows x 85 columns]"
      ]
     },
     "execution_count": 5,
     "metadata": {},
     "output_type": "execute_result"
    }
   ],
   "source": [
    "df_rents.head()"
   ]
  },
  {
   "cell_type": "markdown",
   "metadata": {},
   "source": [
    "### Data Definition"
   ]
  },
  {
   "cell_type": "code",
   "execution_count": null,
   "metadata": {},
   "outputs": [],
   "source": []
  },
  {
   "cell_type": "markdown",
   "metadata": {},
   "source": [
    "### Data Cleaning"
   ]
  },
  {
   "cell_type": "code",
   "execution_count": null,
   "metadata": {},
   "outputs": [],
   "source": []
  },
  {
   "cell_type": "markdown",
   "metadata": {},
   "source": [
    "### Data Joining"
   ]
  },
  {
   "cell_type": "code",
   "execution_count": null,
   "metadata": {},
   "outputs": [],
   "source": []
  },
  {
   "cell_type": "markdown",
   "metadata": {},
   "source": [
    "### Save Data"
   ]
  },
  {
   "cell_type": "code",
   "execution_count": null,
   "metadata": {},
   "outputs": [],
   "source": []
  },
  {
   "cell_type": "markdown",
   "metadata": {},
   "source": [
    "### Notes\n"
   ]
  },
  {
   "cell_type": "code",
   "execution_count": null,
   "metadata": {},
   "outputs": [],
   "source": []
  },
  {
   "cell_type": "markdown",
   "metadata": {},
   "source": [
    "### Summary"
   ]
  },
  {
   "cell_type": "code",
   "execution_count": null,
   "metadata": {},
   "outputs": [],
   "source": []
  }
 ],
 "metadata": {
  "kernelspec": {
   "display_name": "Python 3",
   "language": "python",
   "name": "python3"
  },
  "language_info": {
   "codemirror_mode": {
    "name": "ipython",
    "version": 3
   },
   "file_extension": ".py",
   "mimetype": "text/x-python",
   "name": "python",
   "nbconvert_exporter": "python",
   "pygments_lexer": "ipython3",
   "version": "3.7.6"
  }
 },
 "nbformat": 4,
 "nbformat_minor": 4
}
