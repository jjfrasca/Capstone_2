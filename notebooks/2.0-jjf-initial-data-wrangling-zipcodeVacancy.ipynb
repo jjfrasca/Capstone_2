{
 "cells": [
  {
   "cell_type": "markdown",
   "metadata": {},
   "source": [
    "## Data Collection\n",
    "Goal: Organize your data to streamline the next steps of your\n",
    "capstone "
   ]
  },
  {
   "cell_type": "code",
   "execution_count": 1,
   "metadata": {},
   "outputs": [],
   "source": [
    "#Import pandas, matplotlib.pyplot, and seaborn\n",
    "import pandas as pd\n",
    "import matplotlib.pyplot as plt\n",
    "import seaborn as sns\n",
    "import os\n",
    "import numpy as np"
   ]
  },
  {
   "cell_type": "code",
   "execution_count": 2,
   "metadata": {},
   "outputs": [],
   "source": [
    "#change directory to get data\n",
    "path= '/Users/josephfrasca/Coding_Stuff/Springboard/Capstone_2/data/raw/VacanyRateData-ByZipcode'\n",
    "os.chdir(path)"
   ]
  },
  {
   "cell_type": "code",
   "execution_count": 3,
   "metadata": {},
   "outputs": [
    {
     "data": {
      "text/plain": [
       "['ACSDT5Y2011.B25002_data_with_overlays_2020-08-24T093201.csv',\n",
       " 'ACSDT5Y2011.B25002_metadata_2020-08-24T093201.csv',\n",
       " 'ACSDT5Y2011.B25002_table_title_2020-08-24T093201.txt',\n",
       " 'ACSDT5Y2012.B25002_data_with_overlays_2020-08-24T093201.csv',\n",
       " 'ACSDT5Y2012.B25002_metadata_2020-08-24T093201.csv',\n",
       " 'ACSDT5Y2012.B25002_table_title_2020-08-24T093201.txt',\n",
       " 'ACSDT5Y2013.B25002_data_with_overlays_2020-08-24T093201.csv',\n",
       " 'ACSDT5Y2013.B25002_metadata_2020-08-24T093201.csv',\n",
       " 'ACSDT5Y2013.B25002_table_title_2020-08-24T093201.txt',\n",
       " 'ACSDT5Y2014.B25002_data_with_overlays_2020-08-24T093201.csv',\n",
       " 'ACSDT5Y2014.B25002_metadata_2020-08-24T093201.csv',\n",
       " 'ACSDT5Y2014.B25002_table_title_2020-08-24T093201.txt',\n",
       " 'ACSDT5Y2015.B25002_data_with_overlays_2020-08-24T093201.csv',\n",
       " 'ACSDT5Y2015.B25002_metadata_2020-08-24T093201.csv',\n",
       " 'ACSDT5Y2015.B25002_table_title_2020-08-24T093201.txt',\n",
       " 'ACSDT5Y2016.B25002_data_with_overlays_2020-08-24T093201.csv',\n",
       " 'ACSDT5Y2016.B25002_metadata_2020-08-24T093201.csv',\n",
       " 'ACSDT5Y2016.B25002_table_title_2020-08-24T093201.txt',\n",
       " 'ACSDT5Y2017.B25002_data_with_overlays_2020-08-24T093201.csv',\n",
       " 'ACSDT5Y2017.B25002_metadata_2020-08-24T093201.csv',\n",
       " 'ACSDT5Y2017.B25002_table_title_2020-08-24T093201.txt',\n",
       " 'ACSDT5Y2018.B25002_data_with_overlays_2020-08-24T093201.csv',\n",
       " 'ACSDT5Y2018.B25002_metadata_2020-08-24T093201.csv',\n",
       " 'ACSDT5Y2018.B25002_table_title_2020-08-24T093201.txt']"
      ]
     },
     "execution_count": 3,
     "metadata": {},
     "output_type": "execute_result"
    }
   ],
   "source": [
    "os.listdir()"
   ]
  },
  {
   "cell_type": "markdown",
   "metadata": {},
   "source": [
    "### Data Loading"
   ]
  },
  {
   "cell_type": "code",
   "execution_count": 4,
   "metadata": {},
   "outputs": [],
   "source": [
    "# load rental vacany data - 2011-2018\n",
    "df_2011 = pd.read_csv('ACSDT5Y2011.B25002_data_with_overlays_2020-08-24T093201.csv')\n",
    "df_2012 = pd.read_csv('ACSDT5Y2012.B25002_data_with_overlays_2020-08-24T093201.csv')\n",
    "df_2013 = pd.read_csv('ACSDT5Y2013.B25002_data_with_overlays_2020-08-24T093201.csv')\n",
    "df_2014 = pd.read_csv('ACSDT5Y2014.B25002_data_with_overlays_2020-08-24T093201.csv')\n",
    "df_2015 = pd.read_csv('ACSDT5Y2015.B25002_data_with_overlays_2020-08-24T093201.csv')\n",
    "df_2016 = pd.read_csv('ACSDT5Y2016.B25002_data_with_overlays_2020-08-24T093201.csv')\n",
    "df_2017 = pd.read_csv('ACSDT5Y2017.B25002_data_with_overlays_2020-08-24T093201.csv')\n",
    "df_2018 = pd.read_csv('ACSDT5Y2018.B25002_data_with_overlays_2020-08-24T093201.csv')\n",
    "\n",
    "df_2011col = pd.read_csv('ACSDT5Y2011.B25002_metadata_2020-08-24T093201.csv')"
   ]
  },
  {
   "cell_type": "code",
   "execution_count": 5,
   "metadata": {},
   "outputs": [
    {
     "data": {
      "text/html": [
       "<div>\n",
       "<style scoped>\n",
       "    .dataframe tbody tr th:only-of-type {\n",
       "        vertical-align: middle;\n",
       "    }\n",
       "\n",
       "    .dataframe tbody tr th {\n",
       "        vertical-align: top;\n",
       "    }\n",
       "\n",
       "    .dataframe thead th {\n",
       "        text-align: right;\n",
       "    }\n",
       "</style>\n",
       "<table border=\"1\" class=\"dataframe\">\n",
       "  <thead>\n",
       "    <tr style=\"text-align: right;\">\n",
       "      <th></th>\n",
       "      <th>GEO_ID</th>\n",
       "      <th>NAME</th>\n",
       "      <th>B25002_001E</th>\n",
       "      <th>B25002_001M</th>\n",
       "      <th>B25002_002E</th>\n",
       "      <th>B25002_002M</th>\n",
       "      <th>B25002_003E</th>\n",
       "      <th>B25002_003M</th>\n",
       "    </tr>\n",
       "  </thead>\n",
       "  <tbody>\n",
       "    <tr>\n",
       "      <th>0</th>\n",
       "      <td>id</td>\n",
       "      <td>Geographic Area Name</td>\n",
       "      <td>Estimate!!Total</td>\n",
       "      <td>Margin of Error!!Total</td>\n",
       "      <td>Estimate!!Total!!Occupied</td>\n",
       "      <td>Margin of Error!!Total!!Occupied</td>\n",
       "      <td>Estimate!!Total!!Vacant</td>\n",
       "      <td>Margin of Error!!Total!!Vacant</td>\n",
       "    </tr>\n",
       "    <tr>\n",
       "      <th>1</th>\n",
       "      <td>8600000US02333</td>\n",
       "      <td>ZCTA5 02333</td>\n",
       "      <td>4828</td>\n",
       "      <td>222</td>\n",
       "      <td>4682</td>\n",
       "      <td>203</td>\n",
       "      <td>146</td>\n",
       "      <td>106</td>\n",
       "    </tr>\n",
       "    <tr>\n",
       "      <th>2</th>\n",
       "      <td>8600000US02338</td>\n",
       "      <td>ZCTA5 02338</td>\n",
       "      <td>2888</td>\n",
       "      <td>168</td>\n",
       "      <td>2798</td>\n",
       "      <td>165</td>\n",
       "      <td>90</td>\n",
       "      <td>85</td>\n",
       "    </tr>\n",
       "    <tr>\n",
       "      <th>3</th>\n",
       "      <td>8600000US02339</td>\n",
       "      <td>ZCTA5 02339</td>\n",
       "      <td>4950</td>\n",
       "      <td>172</td>\n",
       "      <td>4729</td>\n",
       "      <td>181</td>\n",
       "      <td>221</td>\n",
       "      <td>102</td>\n",
       "    </tr>\n",
       "    <tr>\n",
       "      <th>4</th>\n",
       "      <td>8600000US02341</td>\n",
       "      <td>ZCTA5 02341</td>\n",
       "      <td>3597</td>\n",
       "      <td>160</td>\n",
       "      <td>3468</td>\n",
       "      <td>147</td>\n",
       "      <td>129</td>\n",
       "      <td>84</td>\n",
       "    </tr>\n",
       "  </tbody>\n",
       "</table>\n",
       "</div>"
      ],
      "text/plain": [
       "           GEO_ID                  NAME      B25002_001E  \\\n",
       "0              id  Geographic Area Name  Estimate!!Total   \n",
       "1  8600000US02333           ZCTA5 02333             4828   \n",
       "2  8600000US02338           ZCTA5 02338             2888   \n",
       "3  8600000US02339           ZCTA5 02339             4950   \n",
       "4  8600000US02341           ZCTA5 02341             3597   \n",
       "\n",
       "              B25002_001M                B25002_002E  \\\n",
       "0  Margin of Error!!Total  Estimate!!Total!!Occupied   \n",
       "1                     222                       4682   \n",
       "2                     168                       2798   \n",
       "3                     172                       4729   \n",
       "4                     160                       3468   \n",
       "\n",
       "                        B25002_002M              B25002_003E  \\\n",
       "0  Margin of Error!!Total!!Occupied  Estimate!!Total!!Vacant   \n",
       "1                               203                      146   \n",
       "2                               165                       90   \n",
       "3                               181                      221   \n",
       "4                               147                      129   \n",
       "\n",
       "                      B25002_003M  \n",
       "0  Margin of Error!!Total!!Vacant  \n",
       "1                             106  \n",
       "2                              85  \n",
       "3                             102  \n",
       "4                              84  "
      ]
     },
     "execution_count": 5,
     "metadata": {},
     "output_type": "execute_result"
    }
   ],
   "source": [
    "df_2011.head()"
   ]
  },
  {
   "cell_type": "code",
   "execution_count": 6,
   "metadata": {},
   "outputs": [
    {
     "data": {
      "text/html": [
       "<div>\n",
       "<style scoped>\n",
       "    .dataframe tbody tr th:only-of-type {\n",
       "        vertical-align: middle;\n",
       "    }\n",
       "\n",
       "    .dataframe tbody tr th {\n",
       "        vertical-align: top;\n",
       "    }\n",
       "\n",
       "    .dataframe thead th {\n",
       "        text-align: right;\n",
       "    }\n",
       "</style>\n",
       "<table border=\"1\" class=\"dataframe\">\n",
       "  <thead>\n",
       "    <tr style=\"text-align: right;\">\n",
       "      <th></th>\n",
       "      <th>GEO_ID</th>\n",
       "      <th>NAME</th>\n",
       "      <th>B25002_001E</th>\n",
       "      <th>B25002_001M</th>\n",
       "      <th>B25002_002E</th>\n",
       "      <th>B25002_002M</th>\n",
       "      <th>B25002_003E</th>\n",
       "      <th>B25002_003M</th>\n",
       "    </tr>\n",
       "  </thead>\n",
       "  <tbody>\n",
       "    <tr>\n",
       "      <th>0</th>\n",
       "      <td>id</td>\n",
       "      <td>Geographic Area Name</td>\n",
       "      <td>Estimate!!Total</td>\n",
       "      <td>Margin of Error!!Total</td>\n",
       "      <td>Estimate!!Total!!Occupied</td>\n",
       "      <td>Margin of Error!!Total!!Occupied</td>\n",
       "      <td>Estimate!!Total!!Vacant</td>\n",
       "      <td>Margin of Error!!Total!!Vacant</td>\n",
       "    </tr>\n",
       "    <tr>\n",
       "      <th>1</th>\n",
       "      <td>8600000US43964</td>\n",
       "      <td>ZCTA5 43964</td>\n",
       "      <td>4155</td>\n",
       "      <td>189</td>\n",
       "      <td>3811</td>\n",
       "      <td>175</td>\n",
       "      <td>344</td>\n",
       "      <td>105</td>\n",
       "    </tr>\n",
       "    <tr>\n",
       "      <th>2</th>\n",
       "      <td>8600000US28216</td>\n",
       "      <td>ZCTA5 28216</td>\n",
       "      <td>21688</td>\n",
       "      <td>346</td>\n",
       "      <td>19911</td>\n",
       "      <td>449</td>\n",
       "      <td>1777</td>\n",
       "      <td>347</td>\n",
       "    </tr>\n",
       "    <tr>\n",
       "      <th>3</th>\n",
       "      <td>8600000US28277</td>\n",
       "      <td>ZCTA5 28277</td>\n",
       "      <td>27830</td>\n",
       "      <td>303</td>\n",
       "      <td>26695</td>\n",
       "      <td>385</td>\n",
       "      <td>1135</td>\n",
       "      <td>295</td>\n",
       "    </tr>\n",
       "    <tr>\n",
       "      <th>4</th>\n",
       "      <td>8600000US28278</td>\n",
       "      <td>ZCTA5 28278</td>\n",
       "      <td>9720</td>\n",
       "      <td>279</td>\n",
       "      <td>9176</td>\n",
       "      <td>272</td>\n",
       "      <td>544</td>\n",
       "      <td>164</td>\n",
       "    </tr>\n",
       "  </tbody>\n",
       "</table>\n",
       "</div>"
      ],
      "text/plain": [
       "           GEO_ID                  NAME      B25002_001E  \\\n",
       "0              id  Geographic Area Name  Estimate!!Total   \n",
       "1  8600000US43964           ZCTA5 43964             4155   \n",
       "2  8600000US28216           ZCTA5 28216            21688   \n",
       "3  8600000US28277           ZCTA5 28277            27830   \n",
       "4  8600000US28278           ZCTA5 28278             9720   \n",
       "\n",
       "              B25002_001M                B25002_002E  \\\n",
       "0  Margin of Error!!Total  Estimate!!Total!!Occupied   \n",
       "1                     189                       3811   \n",
       "2                     346                      19911   \n",
       "3                     303                      26695   \n",
       "4                     279                       9176   \n",
       "\n",
       "                        B25002_002M              B25002_003E  \\\n",
       "0  Margin of Error!!Total!!Occupied  Estimate!!Total!!Vacant   \n",
       "1                               175                      344   \n",
       "2                               449                     1777   \n",
       "3                               385                     1135   \n",
       "4                               272                      544   \n",
       "\n",
       "                      B25002_003M  \n",
       "0  Margin of Error!!Total!!Vacant  \n",
       "1                             105  \n",
       "2                             347  \n",
       "3                             295  \n",
       "4                             164  "
      ]
     },
     "execution_count": 6,
     "metadata": {},
     "output_type": "execute_result"
    }
   ],
   "source": [
    "df_2018.head()"
   ]
  },
  {
   "cell_type": "code",
   "execution_count": 16,
   "metadata": {},
   "outputs": [
    {
     "data": {
      "text/html": [
       "<div>\n",
       "<style scoped>\n",
       "    .dataframe tbody tr th:only-of-type {\n",
       "        vertical-align: middle;\n",
       "    }\n",
       "\n",
       "    .dataframe tbody tr th {\n",
       "        vertical-align: top;\n",
       "    }\n",
       "\n",
       "    .dataframe thead th {\n",
       "        text-align: right;\n",
       "    }\n",
       "</style>\n",
       "<table border=\"1\" class=\"dataframe\">\n",
       "  <thead>\n",
       "    <tr style=\"text-align: right;\">\n",
       "      <th></th>\n",
       "      <th>id</th>\n",
       "      <th>Geographic Area Name</th>\n",
       "      <th>Estimate!!Total</th>\n",
       "      <th>Margin of Error!!Total</th>\n",
       "      <th>Estimate!!Total!!Occupied</th>\n",
       "      <th>Margin of Error!!Total!!Occupied</th>\n",
       "      <th>Estimate!!Total!!Vacant</th>\n",
       "      <th>Margin of Error!!Total!!Vacant</th>\n",
       "    </tr>\n",
       "  </thead>\n",
       "  <tbody>\n",
       "    <tr>\n",
       "      <th>1</th>\n",
       "      <td>8600000US02333</td>\n",
       "      <td>ZCTA5 02333</td>\n",
       "      <td>4828</td>\n",
       "      <td>222</td>\n",
       "      <td>4682</td>\n",
       "      <td>203</td>\n",
       "      <td>146</td>\n",
       "      <td>106</td>\n",
       "    </tr>\n",
       "    <tr>\n",
       "      <th>2</th>\n",
       "      <td>8600000US02338</td>\n",
       "      <td>ZCTA5 02338</td>\n",
       "      <td>2888</td>\n",
       "      <td>168</td>\n",
       "      <td>2798</td>\n",
       "      <td>165</td>\n",
       "      <td>90</td>\n",
       "      <td>85</td>\n",
       "    </tr>\n",
       "    <tr>\n",
       "      <th>3</th>\n",
       "      <td>8600000US02339</td>\n",
       "      <td>ZCTA5 02339</td>\n",
       "      <td>4950</td>\n",
       "      <td>172</td>\n",
       "      <td>4729</td>\n",
       "      <td>181</td>\n",
       "      <td>221</td>\n",
       "      <td>102</td>\n",
       "    </tr>\n",
       "    <tr>\n",
       "      <th>4</th>\n",
       "      <td>8600000US02341</td>\n",
       "      <td>ZCTA5 02341</td>\n",
       "      <td>3597</td>\n",
       "      <td>160</td>\n",
       "      <td>3468</td>\n",
       "      <td>147</td>\n",
       "      <td>129</td>\n",
       "      <td>84</td>\n",
       "    </tr>\n",
       "    <tr>\n",
       "      <th>5</th>\n",
       "      <td>8600000US02343</td>\n",
       "      <td>ZCTA5 02343</td>\n",
       "      <td>4313</td>\n",
       "      <td>200</td>\n",
       "      <td>4152</td>\n",
       "      <td>203</td>\n",
       "      <td>161</td>\n",
       "      <td>126</td>\n",
       "    </tr>\n",
       "  </tbody>\n",
       "</table>\n",
       "</div>"
      ],
      "text/plain": [
       "0              id Geographic Area Name Estimate!!Total Margin of Error!!Total  \\\n",
       "1  8600000US02333          ZCTA5 02333            4828                    222   \n",
       "2  8600000US02338          ZCTA5 02338            2888                    168   \n",
       "3  8600000US02339          ZCTA5 02339            4950                    172   \n",
       "4  8600000US02341          ZCTA5 02341            3597                    160   \n",
       "5  8600000US02343          ZCTA5 02343            4313                    200   \n",
       "\n",
       "0 Estimate!!Total!!Occupied Margin of Error!!Total!!Occupied  \\\n",
       "1                      4682                              203   \n",
       "2                      2798                              165   \n",
       "3                      4729                              181   \n",
       "4                      3468                              147   \n",
       "5                      4152                              203   \n",
       "\n",
       "0 Estimate!!Total!!Vacant Margin of Error!!Total!!Vacant  \n",
       "1                     146                            106  \n",
       "2                      90                             85  \n",
       "3                     221                            102  \n",
       "4                     129                             84  \n",
       "5                     161                            126  "
      ]
     },
     "execution_count": 16,
     "metadata": {},
     "output_type": "execute_result"
    }
   ],
   "source": [
    "header_row = 0\n",
    "df_2011.columns = df_2011.iloc[0]\n",
    "df_2011 = df_2011.drop(0)\n",
    "df_2011.head()"
   ]
  },
  {
   "cell_type": "code",
   "execution_count": 20,
   "metadata": {},
   "outputs": [
    {
     "data": {
      "text/plain": [
       "0\n",
       "id                                  33120\n",
       "Geographic Area Name                33120\n",
       "Estimate!!Total                     33120\n",
       "Margin of Error!!Total              33120\n",
       "Estimate!!Total!!Occupied           33120\n",
       "Margin of Error!!Total!!Occupied    33120\n",
       "Estimate!!Total!!Vacant             33120\n",
       "Margin of Error!!Total!!Vacant      33120\n",
       "dtype: int64"
      ]
     },
     "execution_count": 20,
     "metadata": {},
     "output_type": "execute_result"
    }
   ],
   "source": [
    "df_2011.count()"
   ]
  },
  {
   "cell_type": "code",
   "execution_count": 9,
   "metadata": {},
   "outputs": [
    {
     "data": {
      "text/plain": [
       "0\n",
       "id                                  0\n",
       "Geographic Area Name                0\n",
       "Estimate!!Total                     0\n",
       "Margin of Error!!Total              0\n",
       "Estimate!!Total!!Occupied           0\n",
       "Margin of Error!!Total!!Occupied    0\n",
       "Estimate!!Total!!Vacant             0\n",
       "Margin of Error!!Total!!Vacant      0\n",
       "dtype: int64"
      ]
     },
     "execution_count": 9,
     "metadata": {},
     "output_type": "execute_result"
    }
   ],
   "source": [
    "#checked all dataframes for null values, none found\n",
    "df_2011.isnull().sum()"
   ]
  },
  {
   "cell_type": "code",
   "execution_count": 10,
   "metadata": {},
   "outputs": [
    {
     "data": {
      "text/plain": [
       "0\n",
       "id                                  object\n",
       "Geographic Area Name                object\n",
       "Estimate!!Total                     object\n",
       "Margin of Error!!Total              object\n",
       "Estimate!!Total!!Occupied           object\n",
       "Margin of Error!!Total!!Occupied    object\n",
       "Estimate!!Total!!Vacant             object\n",
       "Margin of Error!!Total!!Vacant      object\n",
       "dtype: object"
      ]
     },
     "execution_count": 10,
     "metadata": {},
     "output_type": "execute_result"
    }
   ],
   "source": [
    "#check dtypes, need to convert columns to integer/float\n",
    "df_2011.dtypes"
   ]
  },
  {
   "cell_type": "code",
   "execution_count": 11,
   "metadata": {},
   "outputs": [],
   "source": [
    "#clean and wrangle (ie. column names, NaN, etc.)\n",
    "#figure out what to do with estimate margin of errors\n",
    "#calcuate vacancy rate (=vacant/total)\n",
    "#merge all years together\n",
    "#merge with table with metro area and state by zipcode \n",
    "#   - <https://docs.google.com/spreadsheets/d/1cooq5X9NeiYwqcuXtKvDjWcBqzNVl1dqGuK2G732LV0/edit#gid=1531339003>"
   ]
  }
 ],
 "metadata": {
  "kernelspec": {
   "display_name": "Python 3",
   "language": "python",
   "name": "python3"
  },
  "language_info": {
   "codemirror_mode": {
    "name": "ipython",
    "version": 3
   },
   "file_extension": ".py",
   "mimetype": "text/x-python",
   "name": "python",
   "nbconvert_exporter": "python",
   "pygments_lexer": "ipython3",
   "version": "3.7.6"
  }
 },
 "nbformat": 4,
 "nbformat_minor": 4
}
